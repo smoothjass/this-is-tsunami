{
 "cells": [
  {
   "cell_type": "code",
   "execution_count": 34,
   "id": "initial_id",
   "metadata": {
    "collapsed": true,
    "ExecuteTime": {
     "end_time": "2023-11-15T21:25:40.641051913Z",
     "start_time": "2023-11-15T21:25:40.588336904Z"
    }
   },
   "outputs": [],
   "source": [
    "# resources:\n",
    "# https://earthquake.usgs.gov/fdsnws/event/1/   API\n"
   ]
  },
  {
   "cell_type": "code",
   "execution_count": 35,
   "outputs": [],
   "source": [
    "import requests\n",
    "import json\n",
    "import pandas as pd\n",
    "import random"
   ],
   "metadata": {
    "collapsed": false,
    "ExecuteTime": {
     "end_time": "2023-11-15T21:25:40.641368090Z",
     "start_time": "2023-11-15T21:25:40.635170093Z"
    }
   },
   "id": "6182a7ae6e87c54"
  },
  {
   "cell_type": "code",
   "execution_count": 36,
   "outputs": [
    {
     "name": "stdout",
     "output_type": "stream",
     "text": [
      "dict_keys(['catalogs', 'contributors', 'producttypes', 'eventtypes', 'magnitudetypes'])\n",
      "['ismpkansas', 'gcmt', 'ci', 'aacse', 'rusms', 'ev', 'iscgemsup', 'nm', 'pde', 'wes']\n",
      "['se', 'ok', 'nm', 'us', 'cgs', 'atlas', 'hv', 'prod02-pdl01.cr.usgs.gov', 'nn', 'uw']\n",
      "['trump-impact-text', 'impact-link', 'trump-origin', 'trump-dyfi', 'trump-moment-tensor', 'general-header', 'origin', 'disassociate', 'trump-general-text', 'internal-moment-tensor']\n",
      "['rock burst', 'rockslide', 'volcanic explosion', 'nuclear explosion', 'meteorite', 'rock_burst', 'explosion', 'accidental explosion', 'industrial explosion', 'mine collapse']\n",
      "['m', 'mb_lg', 'mwb', 'ml(texnet)', 'Me', 'mlv', 'lg', 'H', 'fa', 'mlr']\n"
     ]
    }
   ],
   "source": [
    "session = requests.Session()\n",
    "URL = \"https://earthquake.usgs.gov/fdsnws/event/1/application.json\"\n",
    "\n",
    "response = session.get(url=URL)\n",
    "data = response.json()\n",
    "\n",
    "print(data.keys())\n",
    "for key in data.keys():\n",
    "    print(random.sample(data[key], 10))"
   ],
   "metadata": {
    "collapsed": false,
    "ExecuteTime": {
     "end_time": "2023-11-15T21:25:40.790361189Z",
     "start_time": "2023-11-15T21:25:40.635460897Z"
    }
   },
   "id": "3c3412cf3d4512e"
  },
  {
   "cell_type": "code",
   "execution_count": 37,
   "outputs": [
    {
     "name": "stdout",
     "output_type": "stream",
     "text": [
      "dict_keys(['type', 'metadata', 'features', 'bbox'])\n",
      "{'generated': 1700083546000, 'url': 'https://earthquake.usgs.gov/fdsnws/event/1/query?eventtype=earthquake&format=geojson', 'title': 'USGS Earthquakes', 'status': 200, 'api': '1.14.0', 'count': 9645}\n",
      "[{'type': 'Feature', 'properties': {'mag': 1.32, 'place': '3 km NNE of Millbrae, CA', 'time': 1698530506170, 'updated': 1698607930437, 'tz': None, 'url': 'https://earthquake.usgs.gov/earthquakes/eventpage/nc73952955', 'detail': 'https://earthquake.usgs.gov/fdsnws/event/1/query?eventid=nc73952955&format=geojson', 'felt': None, 'cdi': None, 'mmi': None, 'alert': None, 'status': 'reviewed', 'tsunami': 0, 'sig': 27, 'net': 'nc', 'code': '73952955', 'ids': ',nc73952955,', 'sources': ',nc,', 'types': ',nearby-cities,origin,phase-data,scitech-link,', 'nst': 29, 'dmin': 0.05247, 'rms': 0.06, 'gap': 38, 'magType': 'md', 'type': 'earthquake', 'title': 'M 1.3 - 3 km NNE of Millbrae, CA'}, 'geometry': {'type': 'Point', 'coordinates': [-122.3718333, 37.6181667, 11.98]}, 'id': 'nc73952955'}, {'type': 'Feature', 'properties': {'mag': 1.75, 'place': '10 km SSW of Volcano, Hawaii', 'time': 1698196298980, 'updated': 1698196630880, 'tz': None, 'url': 'https://earthquake.usgs.gov/earthquakes/eventpage/hv73622997', 'detail': 'https://earthquake.usgs.gov/fdsnws/event/1/query?eventid=hv73622997&format=geojson', 'felt': None, 'cdi': None, 'mmi': None, 'alert': None, 'status': 'automatic', 'tsunami': 0, 'sig': 47, 'net': 'hv', 'code': '73622997', 'ids': ',hv73622997,', 'sources': ',hv,', 'types': ',origin,phase-data,', 'nst': 18, 'dmin': None, 'rms': 0.0900000036, 'gap': 116, 'magType': 'ml', 'type': 'earthquake', 'title': 'M 1.8 - 10 km SSW of Volcano, Hawaii'}, 'geometry': {'type': 'Point', 'coordinates': [-155.286499023438, 19.3606662750244, 2.27999997138977]}, 'id': 'hv73622997'}, {'type': 'Feature', 'properties': {'mag': 1.46, 'place': '10 km ENE of Ronan, Montana', 'time': 1697778554140, 'updated': 1697810422060, 'tz': None, 'url': 'https://earthquake.usgs.gov/earthquakes/eventpage/mb90030483', 'detail': 'https://earthquake.usgs.gov/fdsnws/event/1/query?eventid=mb90030483&format=geojson', 'felt': None, 'cdi': None, 'mmi': None, 'alert': None, 'status': 'reviewed', 'tsunami': 0, 'sig': 33, 'net': 'mb', 'code': '90030483', 'ids': ',mb90030483,', 'sources': ',mb,', 'types': ',origin,phase-data,', 'nst': 22, 'dmin': 0.06754, 'rms': 0.17, 'gap': 81, 'magType': 'ml', 'type': 'earthquake', 'title': 'M 1.5 - 10 km ENE of Ronan, Montana'}, 'geometry': {'type': 'Point', 'coordinates': [-113.976833333333, 47.5751666666667, 17.78]}, 'id': 'mb90030483'}]\n",
      "9645\n"
     ]
    }
   ],
   "source": [
    "URL = \"https://earthquake.usgs.gov/fdsnws/event/1/query\"\n",
    "PARAMS = {\n",
    "    \"eventtype\":\"earthquake\",\n",
    "    \"format\":\"geojson\"\n",
    "}\n",
    "response = session.get(url=URL, params=PARAMS)\n",
    "data = response.json()\n",
    "\n",
    "print(data.keys())\n",
    "print(data[\"metadata\"])\n",
    "print(random.sample(data[\"features\"], 3))\n",
    "print(len(data[\"features\"]))"
   ],
   "metadata": {
    "collapsed": false,
    "ExecuteTime": {
     "end_time": "2023-11-15T21:25:47.338394395Z",
     "start_time": "2023-11-15T21:25:40.800598080Z"
    }
   },
   "id": "b6db53e5e8a022c2"
  },
  {
   "cell_type": "code",
   "execution_count": 38,
   "outputs": [],
   "source": [
    "json_string = json.dumps(data[\"features\"], indent=4)\n",
    "with open(\"test_request.json\", \"w\") as outfile:\n",
    "    outfile.write(json_string)"
   ],
   "metadata": {
    "collapsed": false,
    "ExecuteTime": {
     "end_time": "2023-11-15T21:25:47.783502929Z",
     "start_time": "2023-11-15T21:25:47.393346737Z"
    }
   },
   "id": "8876af11bba124a5"
  },
  {
   "cell_type": "code",
   "execution_count": 39,
   "outputs": [
    {
     "name": "stdout",
     "output_type": "stream",
     "text": [
      "               mag          time       updated          felt         cdi  \\\n",
      "count  9645.000000  9.645000e+03  9.645000e+03    597.000000  597.000000   \n",
      "mean      1.638428  1.698704e+12  1.699040e+12     50.517588    2.730653   \n",
      "std       1.256132  7.194844e+08  6.912590e+08    589.188563    1.390167   \n",
      "min      -1.320000  1.697492e+12  1.697496e+12      0.000000    0.000000   \n",
      "25%       0.840000  1.698092e+12  1.698476e+12      1.000000    2.000000   \n",
      "50%       1.420000  1.698630e+12  1.699059e+12      1.000000    2.700000   \n",
      "75%       2.080000  1.699312e+12  1.699619e+12      5.000000    3.600000   \n",
      "max       7.100000  1.700082e+12  1.700083e+12  11940.000000    8.200000   \n",
      "\n",
      "              mmi      tsunami          sig          nst         dmin  \\\n",
      "count  132.000000  9645.000000  9645.000000  7624.000000  5978.000000   \n",
      "mean     3.605644     0.000726    66.038466    23.460913     0.629187   \n",
      "std      1.787336     0.026932    97.499108    22.515563     2.166319   \n",
      "min      0.000000     0.000000     0.000000     0.000000     0.000000   \n",
      "25%      2.530750     0.000000    11.000000    10.000000     0.011565   \n",
      "50%      3.643500     0.000000    31.000000    17.000000     0.058115   \n",
      "75%      4.537250     0.000000    67.000000    29.000000     0.178000   \n",
      "max      8.170000     1.000000  1026.000000   378.000000    45.685000   \n",
      "\n",
      "               rms          gap    longitude     latitude     altitude  \n",
      "count  9645.000000  7624.000000  9645.000000  9645.000000  9645.000000  \n",
      "mean      0.282508   113.014151  -112.337066    39.519055    23.041692  \n",
      "std       0.270679    63.048089    70.490524    19.370662    52.821190  \n",
      "min       0.000000    15.000000  -179.990100   -62.705300    -3.390000  \n",
      "25%       0.090000    66.000000  -152.066900    33.043333     3.340000  \n",
      "50%       0.170000    96.000000  -122.761665    38.819832     7.720000  \n",
      "75%       0.440000   146.000000  -115.155000    55.644000    15.600000  \n",
      "max       3.090000   350.000000   179.954200    76.241600   629.243000  \n"
     ]
    }
   ],
   "source": [
    "# Load JSON string into a Python object\n",
    "data = json.loads(json_string)\n",
    "\n",
    "# Extract properties and coordinates\n",
    "properties_list = [item['properties'] for item in data]\n",
    "coordinates_list = [item['geometry']['coordinates'] for item in data]\n",
    "\n",
    "# Create DataFrames\n",
    "properties_df = pd.DataFrame(properties_list)\n",
    "coordinates_df = pd.DataFrame(coordinates_list, columns=['longitude', 'latitude', 'altitude'])\n",
    "\n",
    "# Concatenate DataFrames along columns\n",
    "result_df = pd.concat([properties_df, coordinates_df], axis=1)\n",
    "\n",
    "# Display the resulting DataFrame\n",
    "print(result_df.describe())"
   ],
   "metadata": {
    "collapsed": false,
    "ExecuteTime": {
     "end_time": "2023-11-15T21:25:48.102718193Z",
     "start_time": "2023-11-15T21:25:47.930380324Z"
    }
   },
   "id": "970cebaba326e921"
  },
  {
   "cell_type": "code",
   "execution_count": 39,
   "outputs": [],
   "source": [],
   "metadata": {
    "collapsed": false,
    "ExecuteTime": {
     "end_time": "2023-11-15T21:25:48.103094103Z",
     "start_time": "2023-11-15T21:25:48.098200159Z"
    }
   },
   "id": "aeff3a36973ef490"
  }
 ],
 "metadata": {
  "kernelspec": {
   "display_name": "Python 3",
   "language": "python",
   "name": "python3"
  },
  "language_info": {
   "codemirror_mode": {
    "name": "ipython",
    "version": 2
   },
   "file_extension": ".py",
   "mimetype": "text/x-python",
   "name": "python",
   "nbconvert_exporter": "python",
   "pygments_lexer": "ipython2",
   "version": "2.7.6"
  }
 },
 "nbformat": 4,
 "nbformat_minor": 5
}
