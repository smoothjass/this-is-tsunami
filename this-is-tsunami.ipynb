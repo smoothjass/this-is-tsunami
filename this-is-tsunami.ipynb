{
 "cells": [
  {
   "cell_type": "code",
   "execution_count": 49,
   "id": "initial_id",
   "metadata": {
    "collapsed": true,
    "ExecuteTime": {
     "end_time": "2023-11-16T08:40:31.619473098Z",
     "start_time": "2023-11-16T08:40:31.532016651Z"
    }
   },
   "outputs": [],
   "source": [
    "# resources:\n",
    "# https://earthquake.usgs.gov/fdsnws/event/1/   API\n"
   ]
  },
  {
   "cell_type": "code",
   "execution_count": 50,
   "outputs": [],
   "source": [
    "import requests\n",
    "import json\n",
    "import pandas as pd\n",
    "import random"
   ],
   "metadata": {
    "collapsed": false,
    "ExecuteTime": {
     "end_time": "2023-11-16T08:40:31.623530250Z",
     "start_time": "2023-11-16T08:40:31.572455560Z"
    }
   },
   "id": "6182a7ae6e87c54"
  },
  {
   "cell_type": "code",
   "execution_count": 51,
   "outputs": [
    {
     "name": "stdout",
     "output_type": "stream",
     "text": [
      "dict_keys(['catalogs', 'contributors', 'producttypes', 'eventtypes', 'magnitudetypes'])\n",
      "['iscgemsup', 'us7000kg6v', 'ev', 'dr', 'sc', 'ott', 'gcmt', 'iscgem', 'eqh', 'nm']\n",
      "['nn', 'cgs', 'ew', 'prod01-pdl01.cr.usgs.gov', 'hv', 'atlas', 'official', 'ak', 'ok', 'admin']\n",
      "['trump-moment-tensor', 'trump-impact-text', 'finite-fault', 'deleted-text', 'unassociated-amplitude', 'significance', 'origin', 'nearby-cities', 'losspager-admin', 'trump-general-link']\n",
      "['sonic boom', 'nuclear explosion', 'snow_avalanche', 'collapse', 'rockslide', 'ice quake', 'quarry_blast', 'chemical explosion', 'volcanic explosion', 'train crash']\n",
      "['ml', 'H', 'mwc', 'MbLg', 'mwp', 'no', 'mlr', 'Unknown', 'mdl', 'lg']\n"
     ]
    }
   ],
   "source": [
    "# open session and explore the api\n",
    "session = requests.Session()\n",
    "URL = \"https://earthquake.usgs.gov/fdsnws/event/1/application.json\"\n",
    "\n",
    "response = session.get(url=URL)\n",
    "data = response.json()\n",
    "\n",
    "print(data.keys())\n",
    "for key in data.keys():\n",
    "    print(random.sample(data[key], 10))"
   ],
   "metadata": {
    "collapsed": false,
    "ExecuteTime": {
     "end_time": "2023-11-16T08:40:31.718152273Z",
     "start_time": "2023-11-16T08:40:31.572681833Z"
    }
   },
   "id": "3c3412cf3d4512e"
  },
  {
   "cell_type": "code",
   "execution_count": 52,
   "outputs": [
    {
     "name": "stdout",
     "output_type": "stream",
     "text": [
      "dict_keys(['type', 'metadata', 'features', 'bbox'])\n",
      "{'generated': 1700124032000, 'url': 'https://earthquake.usgs.gov/fdsnws/event/1/query?eventtype=earthquake&format=geojson', 'title': 'USGS Earthquakes', 'status': 200, 'api': '1.14.0', 'count': 9613}\n",
      "[{'type': 'Feature', 'properties': {'mag': 1.54, 'place': '15 km NE of Little Lake, CA', 'time': 1698339690310, 'updated': 1698359700977, 'tz': None, 'url': 'https://earthquake.usgs.gov/earthquakes/eventpage/ci40588376', 'detail': 'https://earthquake.usgs.gov/fdsnws/event/1/query?eventid=ci40588376&format=geojson', 'felt': None, 'cdi': None, 'mmi': None, 'alert': None, 'status': 'reviewed', 'tsunami': 0, 'sig': 36, 'net': 'ci', 'code': '40588376', 'ids': ',ci40588376,', 'sources': ',ci,', 'types': ',nearby-cities,origin,phase-data,scitech-link,', 'nst': 20, 'dmin': 0.04568, 'rms': 0.12, 'gap': 77, 'magType': 'ml', 'type': 'earthquake', 'title': 'M 1.5 - 15 km NE of Little Lake, CA'}, 'geometry': {'type': 'Point', 'coordinates': [-117.7743333, 36.0186667, 2.34]}, 'id': 'ci40588376'}, {'type': 'Feature', 'properties': {'mag': 1.08, 'place': '8 km SW of Waynoka, Oklahoma', 'time': 1698633200620, 'updated': 1698757636702, 'tz': None, 'url': 'https://earthquake.usgs.gov/earthquakes/eventpage/ok2023vfyz', 'detail': 'https://earthquake.usgs.gov/fdsnws/event/1/query?eventid=ok2023vfyz&format=geojson', 'felt': None, 'cdi': None, 'mmi': None, 'alert': None, 'status': 'reviewed', 'tsunami': 0, 'sig': 18, 'net': 'ok', 'code': '2023vfyz', 'ids': ',ok2023vfyz,', 'sources': ',ok,', 'types': ',origin,phase-data,', 'nst': 14, 'dmin': 0.04409134777, 'rms': 0.05, 'gap': 108, 'magType': 'ml', 'type': 'earthquake', 'title': 'M 1.1 - 8 km SW of Waynoka, Oklahoma'}, 'geometry': {'type': 'Point', 'coordinates': [-98.96, 36.53566667, 6.77]}, 'id': 'ok2023vfyz'}, {'type': 'Feature', 'properties': {'mag': 0.41000000000000003, 'place': '23 km ENE of Ashford, Washington', 'time': 1698255922820, 'updated': 1698275931060, 'tz': None, 'url': 'https://earthquake.usgs.gov/earthquakes/eventpage/uw61959162', 'detail': 'https://earthquake.usgs.gov/fdsnws/event/1/query?eventid=uw61959162&format=geojson', 'felt': None, 'cdi': None, 'mmi': None, 'alert': None, 'status': 'reviewed', 'tsunami': 0, 'sig': 3, 'net': 'uw', 'code': '61959162', 'ids': ',uw61959162,', 'sources': ',uw,', 'types': ',origin,phase-data,', 'nst': 8, 'dmin': 0.02021, 'rms': 0.07, 'gap': 116, 'magType': 'ml', 'type': 'earthquake', 'title': 'M 0.4 - 23 km ENE of Ashford, Washington'}, 'geometry': {'type': 'Point', 'coordinates': [-121.74883333333334, 46.852666666666664, 1.88]}, 'id': 'uw61959162'}]\n",
      "9613\n"
     ]
    }
   ],
   "source": [
    "# let's get some actual earthquake data\n",
    "URL = \"https://earthquake.usgs.gov/fdsnws/event/1/query\"\n",
    "PARAMS = {\n",
    "    \"eventtype\":\"earthquake\",\n",
    "    \"format\":\"geojson\"\n",
    "}\n",
    "response = session.get(url=URL, params=PARAMS)\n",
    "data = response.json()\n",
    "\n",
    "print(data.keys())\n",
    "print(data[\"metadata\"])\n",
    "print(random.sample(data[\"features\"], 3))\n",
    "print(len(data[\"features\"]))"
   ],
   "metadata": {
    "collapsed": false,
    "ExecuteTime": {
     "end_time": "2023-11-16T08:40:34.114332175Z",
     "start_time": "2023-11-16T08:40:31.724831574Z"
    }
   },
   "id": "b6db53e5e8a022c2"
  },
  {
   "cell_type": "code",
   "execution_count": 53,
   "outputs": [],
   "source": [
    "# writing it to a json file to look at it\n",
    "json_string = json.dumps(data[\"features\"], indent=4)\n",
    "with open(\"test_request.json\", \"w\") as outfile:\n",
    "    outfile.write(json_string)"
   ],
   "metadata": {
    "collapsed": false,
    "ExecuteTime": {
     "end_time": "2023-11-16T08:40:34.485901824Z",
     "start_time": "2023-11-16T08:40:34.122171937Z"
    }
   },
   "id": "8876af11bba124a5"
  },
  {
   "cell_type": "code",
   "execution_count": 54,
   "outputs": [
    {
     "name": "stdout",
     "output_type": "stream",
     "text": [
      "               mag          time       updated          felt         cdi  \\\n",
      "count  9613.000000  9.613000e+03  9.613000e+03    593.000000  593.000000   \n",
      "mean      1.640613  1.698730e+12  1.699077e+12     50.865093    2.727656   \n",
      "std       1.259901  7.158193e+08  6.912498e+08    591.255917    1.388738   \n",
      "min      -1.320000  1.697532e+12  1.697535e+12      0.000000    0.000000   \n",
      "25%       0.840000  1.698118e+12  1.698541e+12      1.000000    2.000000   \n",
      "50%       1.420000  1.698657e+12  1.699096e+12      1.000000    2.700000   \n",
      "75%       2.080000  1.699336e+12  1.699639e+12      5.000000    3.600000   \n",
      "max       7.100000  1.700124e+12  1.700124e+12  11940.000000    8.200000   \n",
      "\n",
      "              mmi      tsunami          sig          nst         dmin  \\\n",
      "count  132.000000  9613.000000  9613.000000  7591.000000  5967.000000   \n",
      "mean     3.576803     0.000728    66.299490    23.516006     0.639600   \n",
      "std      1.763647     0.026976    97.912658    22.619339     2.221627   \n",
      "min      0.000000     0.000000     0.000000     0.000000     0.000000   \n",
      "25%      2.530750     0.000000    11.000000    10.000000     0.011535   \n",
      "50%      3.623500     0.000000    31.000000    17.000000     0.058000   \n",
      "75%      4.507750     0.000000    67.000000    29.000000     0.179832   \n",
      "max      8.170000     1.000000  1026.000000   378.000000    45.685000   \n",
      "\n",
      "               rms          gap    longitude     latitude     altitude  \n",
      "count  9613.000000  7591.000000  9613.000000  9613.000000  9613.000000  \n",
      "mean      0.283154   112.853073  -112.214777    39.497499    23.325009  \n",
      "std       0.271144    63.035534    70.715760    19.406451    54.078109  \n",
      "min       0.000000    15.000000  -179.990100   -62.705300    -3.390000  \n",
      "25%       0.090000    66.000000  -152.053600    33.065833     3.330000  \n",
      "50%       0.170000    95.000000  -122.761665    38.819833     7.710000  \n",
      "75%       0.440000   146.000000  -115.176333    55.490000    15.600000  \n",
      "max       3.090000   350.000000   179.954200    76.241600   629.243000  \n"
     ]
    }
   ],
   "source": [
    "# load json string into a python object\n",
    "data = json.loads(json_string)\n",
    "\n",
    "# extract properties and coordinates\n",
    "properties_list = [item['properties'] for item in data]\n",
    "coordinates_list = [item['geometry']['coordinates'] for item in data]\n",
    "\n",
    "# create dfs\n",
    "properties_df = pd.DataFrame(properties_list)\n",
    "coordinates_df = pd.DataFrame(coordinates_list, columns=['longitude', 'latitude', 'altitude'])\n",
    "\n",
    "# concatenate dataframes along columns\n",
    "result_df = pd.concat([properties_df, coordinates_df], axis=1)\n",
    "\n",
    "# display resulting df\n",
    "print(result_df.describe())"
   ],
   "metadata": {
    "collapsed": false,
    "ExecuteTime": {
     "end_time": "2023-11-16T08:40:34.693873252Z",
     "start_time": "2023-11-16T08:40:34.633880109Z"
    }
   },
   "id": "970cebaba326e921"
  },
  {
   "cell_type": "code",
   "execution_count": 55,
   "outputs": [
    {
     "name": "stdout",
     "output_type": "stream",
     "text": [
      "    mag                          place           time        updated    tz  \\\n",
      "0  1.06           10 km NW of Anza, CA  1700123751600  1700123875719  None   \n",
      "1  0.71     8 km NW of The Geysers, CA  1700122800570  1700123591517  None   \n",
      "2  0.86    0 km NNE of The Geysers, CA  1700122682220  1700123290482  None   \n",
      "3  0.92      1 km WSW of Parkfield, CA  1700122583870  1700123290629  None   \n",
      "4  1.60  18 km N of Two Rivers, Alaska  1700122178985  1700122296472  None   \n",
      "\n",
      "                                                 url  \\\n",
      "0  https://earthquake.usgs.gov/earthquakes/eventp...   \n",
      "1  https://earthquake.usgs.gov/earthquakes/eventp...   \n",
      "2  https://earthquake.usgs.gov/earthquakes/eventp...   \n",
      "3  https://earthquake.usgs.gov/earthquakes/eventp...   \n",
      "4  https://earthquake.usgs.gov/earthquakes/eventp...   \n",
      "\n",
      "                                              detail  felt  cdi  mmi  ...  \\\n",
      "0  https://earthquake.usgs.gov/fdsnws/event/1/que...   NaN  NaN  NaN  ...   \n",
      "1  https://earthquake.usgs.gov/fdsnws/event/1/que...   NaN  NaN  NaN  ...   \n",
      "2  https://earthquake.usgs.gov/fdsnws/event/1/que...   NaN  NaN  NaN  ...   \n",
      "3  https://earthquake.usgs.gov/fdsnws/event/1/que...   NaN  NaN  NaN  ...   \n",
      "4  https://earthquake.usgs.gov/fdsnws/event/1/que...   NaN  NaN  NaN  ...   \n",
      "\n",
      "    nst      dmin   rms    gap magType        type  \\\n",
      "0  20.0  0.034900  0.10   77.0      ml  earthquake   \n",
      "1   7.0  0.006157  0.02  118.0      md  earthquake   \n",
      "2  10.0  0.012590  0.04   93.0      md  earthquake   \n",
      "3   8.0  0.030050  0.08  113.0      md  earthquake   \n",
      "4   NaN       NaN  1.15    NaN      ml  earthquake   \n",
      "\n",
      "                                   title   longitude   latitude  altitude  \n",
      "0           M 1.1 - 10 km NW of Anza, CA -116.745834  33.625168     14.35  \n",
      "1     M 0.7 - 8 km NW of The Geysers, CA -122.814163  38.828667      2.27  \n",
      "2    M 0.9 - 0 km NNE of The Geysers, CA -122.755333  38.780335      1.25  \n",
      "3      M 0.9 - 1 km WSW of Parkfield, CA -120.444664  35.892334      8.65  \n",
      "4  M 1.6 - 18 km N of Two Rivers, Alaska -147.045800  65.036000      3.20  \n",
      "\n",
      "[5 rows x 29 columns]\n"
     ]
    }
   ],
   "source": [
    "# i'm comparing with the file to see if we created the dfs correctly\n",
    "print(result_df.head())"
   ],
   "metadata": {
    "collapsed": false,
    "ExecuteTime": {
     "end_time": "2023-11-16T08:40:34.738548037Z",
     "start_time": "2023-11-16T08:40:34.694790038Z"
    }
   },
   "id": "aeff3a36973ef490"
  },
  {
   "cell_type": "code",
   "execution_count": 56,
   "outputs": [],
   "source": [
    "# delete some unused variables\n",
    "del properties_df, properties_list, coordinates_df, coordinates_list\n",
    "df = result_df\n",
    "del result_df"
   ],
   "metadata": {
    "collapsed": false,
    "ExecuteTime": {
     "end_time": "2023-11-16T08:40:34.738890585Z",
     "start_time": "2023-11-16T08:40:34.703461640Z"
    }
   },
   "id": "78adef6d837a989f"
  },
  {
   "cell_type": "code",
   "execution_count": 57,
   "outputs": [],
   "source": [
    "# now let's do some more clean up\n",
    "# i think we can drop place since we have the coordinates and those are universally comparable, which those place strings are not\n",
    "# drop updated\n",
    "# tz is none everywhere, i can't find in the docu what it even is\n",
    "# url and detail are quasi redundant, we're dropping url\n",
    "# idk what net is, i can't find it in the docu. should we drop it? but it's the same as sources just without the ticks. i think we should drop source as well as types, type, title\n",
    "df = df.drop(columns = [\"place\", \"updated\", \"tz\", \"url\", \"sources\", \"types\", \"title\"])"
   ],
   "metadata": {
    "collapsed": false,
    "ExecuteTime": {
     "end_time": "2023-11-16T08:40:34.775620603Z",
     "start_time": "2023-11-16T08:40:34.712027752Z"
    }
   },
   "id": "b428396a005331fc"
  },
  {
   "cell_type": "code",
   "execution_count": 58,
   "outputs": [
    {
     "data": {
      "text/plain": "array(['automatic', 'reviewed'], dtype=object)"
     },
     "execution_count": 58,
     "metadata": {},
     "output_type": "execute_result"
    }
   ],
   "source": [
    "df[\"status\"].unique()\n",
    "# can be reduced to boolean"
   ],
   "metadata": {
    "collapsed": false,
    "ExecuteTime": {
     "end_time": "2023-11-16T08:40:34.792766108Z",
     "start_time": "2023-11-16T08:40:34.752418942Z"
    }
   },
   "id": "195717c92ce1e797"
  },
  {
   "cell_type": "code",
   "execution_count": 59,
   "outputs": [
    {
     "data": {
      "text/plain": "array([None, 'green', 'yellow'], dtype=object)"
     },
     "execution_count": 59,
     "metadata": {},
     "output_type": "execute_result"
    }
   ],
   "source": [
    "df[\"alert\"].unique()\n",
    "# alert needs to be differently encoded"
   ],
   "metadata": {
    "collapsed": false,
    "ExecuteTime": {
     "end_time": "2023-11-16T08:40:34.793213888Z",
     "start_time": "2023-11-16T08:40:34.752695899Z"
    }
   },
   "id": "9d1b2230eb404920"
  },
  {
   "cell_type": "code",
   "execution_count": 60,
   "outputs": [
    {
     "data": {
      "text/plain": "array(['ml', 'md', 'ml(texnet)', 'mb', 'mww', 'mb_lg', 'mlv', 'mwr', 'mw',\n       'mwb'], dtype=object)"
     },
     "execution_count": 60,
     "metadata": {},
     "output_type": "execute_result"
    }
   ],
   "source": [
    "df[\"magType\"].unique()\n",
    "# omg are there different magnitude types? let's one_hot encode these and see how it works. maybe we'll need to convert them somehow to have a common unit but idk yet\n",
    "# https://www.usgs.gov/programs/earthquake-hazards/magnitude-types"
   ],
   "metadata": {
    "collapsed": false,
    "ExecuteTime": {
     "end_time": "2023-11-16T08:40:34.793506343Z",
     "start_time": "2023-11-16T08:40:34.752857066Z"
    }
   },
   "id": "90d6d9c04c454f22"
  },
  {
   "cell_type": "code",
   "execution_count": 61,
   "outputs": [
    {
     "name": "stdout",
     "output_type": "stream",
     "text": [
      "7\n",
      "9606\n"
     ]
    }
   ],
   "source": [
    "print(df[df[\"tsunami\"] == 1][\"ids\"].count())\n",
    "print(df[df[\"tsunami\"] == 0][\"ids\"].count())\n",
    "# very serious class imbalance. BUT it's probably just more likely that no tsunami occurs, luckily"
   ],
   "metadata": {
    "collapsed": false,
    "ExecuteTime": {
     "end_time": "2023-11-16T08:40:34.836466039Z",
     "start_time": "2023-11-16T08:40:34.752978635Z"
    }
   },
   "id": "aaf6788a33d5e2b6"
  },
  {
   "cell_type": "code",
   "execution_count": 62,
   "outputs": [],
   "source": [
    "# TODO ststus boolean\n",
    "# TODO onehot encode alert. note that there are more options than we see in our sample (green, yellow, orange, red, none)\n",
    "# TODO reserach and decide what to do with magtype"
   ],
   "metadata": {
    "collapsed": false,
    "ExecuteTime": {
     "end_time": "2023-11-16T08:40:34.836696589Z",
     "start_time": "2023-11-16T08:40:34.800409970Z"
    }
   },
   "id": "31b751f326630bae"
  },
  {
   "cell_type": "code",
   "execution_count": 63,
   "outputs": [],
   "source": [
    "# also, those are just like 10000 rows. this is little data. let's get some more.\n",
    "# but i think before we do that it's time to make a remote mongo db instance and store our stuff because i cannot handle tons of data on this machine\n",
    "# we'll have to make json strings from our dfs, i think, and then store them in mongo"
   ],
   "metadata": {
    "collapsed": false,
    "ExecuteTime": {
     "end_time": "2023-11-16T08:40:34.836842116Z",
     "start_time": "2023-11-16T08:40:34.800657483Z"
    }
   },
   "id": "3d79674dd3877c93"
  }
 ],
 "metadata": {
  "kernelspec": {
   "display_name": "Python 3",
   "language": "python",
   "name": "python3"
  },
  "language_info": {
   "codemirror_mode": {
    "name": "ipython",
    "version": 2
   },
   "file_extension": ".py",
   "mimetype": "text/x-python",
   "name": "python",
   "nbconvert_exporter": "python",
   "pygments_lexer": "ipython2",
   "version": "2.7.6"
  }
 },
 "nbformat": 4,
 "nbformat_minor": 5
}
